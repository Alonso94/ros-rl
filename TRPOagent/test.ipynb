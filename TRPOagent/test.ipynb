{
 "cells": [
  {
   "cell_type": "code",
   "execution_count": 1,
   "metadata": {
    "collapsed": true
   },
   "outputs": [],
   "source": [
    "import gym\n",
    "import gym_crumb\n",
    "from agent.agent_TRPO import TRPOAgent"
   ]
  },
  {
   "cell_type": "code",
   "execution_count": 2,
   "metadata": {
    "collapsed": true
   },
   "outputs": [],
   "source": [
    "import matplotlib.pyplot as plt\n",
    "import os\n",
    "if os.environ.get(\"DISPLAY\") is str and len(os.environ.get(\"DISPLAY\"))!=0:\n",
    "    !bash ../xvfb start\n",
    "    %env DISPLAY=:1"
   ]
  },
  {
   "cell_type": "code",
   "execution_count": 3,
   "metadata": {},
   "outputs": [],
   "source": [
    "env = gym.make(\"crumb-synthetic-v0\")\n",
    "agent = TRPOAgent(env)\n",
    "#agent.net.Loadmodel()"
   ]
  },
  {
   "cell_type": "code",
   "execution_count": null,
   "metadata": {},
   "outputs": [
    {
     "name": "stdout",
     "output_type": "stream",
     "text": [
      "\n",
      "********** Iteration 1 ************\n",
      "Rollout\n",
      "Made rollout\n",
      "Total number of episodes:                 403\n",
      "Average sum of rewards per episode:       -118.1650372208437\n",
      "Std of rewards per episode:               41.253750312243334\n",
      "Entropy:                                  -147255.76518373148\n",
      "KL between old and new distribution:      -0.02717123634490908\n",
      "Surrogate loss:                           371432.9836773763\n",
      "\n",
      "********** Iteration 2 ************\n",
      "Rollout\n",
      "Made rollout\n",
      "Total number of episodes:                 412\n",
      "Average sum of rewards per episode:       -107.12169902912622\n",
      "Std of rewards per episode:               49.61482751894497\n",
      "Entropy:                                  -151518.32196066473\n",
      "KL between old and new distribution:      -0.009866777121583108\n",
      "Surrogate loss:                           344131.2660730503\n",
      "\n",
      "********** Iteration 3 ************\n",
      "Rollout\n",
      "Made rollout\n",
      "Total number of episodes:                 414\n",
      "Average sum of rewards per episode:       -105.25847826086955\n",
      "Std of rewards per episode:               50.52899637571926\n",
      "Entropy:                                  -154577.68882976618\n",
      "KL between old and new distribution:      0.0024980882390539605\n",
      "Surrogate loss:                           343152.39866497886\n",
      "\n",
      "********** Iteration 4 ************\n",
      "Rollout\n",
      "Made rollout\n",
      "Total number of episodes:                 409\n",
      "Average sum of rewards per episode:       -102.45562347188266\n",
      "Std of rewards per episode:               48.19534927866946\n",
      "Entropy:                                  -156168.6239614079\n",
      "KL between old and new distribution:      0.009929415504975912\n",
      "Surrogate loss:                           334210.10599797947\n",
      "\n",
      "********** Iteration 5 ************\n",
      "Rollout\n",
      "Made rollout\n",
      "Total number of episodes:                 407\n",
      "Average sum of rewards per episode:       -105.81606879606879\n",
      "Std of rewards per episode:               41.83566261707251\n",
      "Entropy:                                  -161460.33805707883\n",
      "KL between old and new distribution:      -0.06228094412881309\n",
      "Surrogate loss:                           338334.27877479314\n",
      "\n",
      "********** Iteration 6 ************\n",
      "Rollout\n",
      "Made rollout\n",
      "Total number of episodes:                 415\n",
      "Average sum of rewards per episode:       -98.31438554216868\n",
      "Std of rewards per episode:               50.297185751311766\n",
      "Entropy:                                  -164095.59360609774\n",
      "KL between old and new distribution:      0.0009813669409740368\n",
      "Surrogate loss:                           323225.80324393406\n",
      "\n",
      "********** Iteration 7 ************\n",
      "Rollout\n",
      "Made rollout\n",
      "Total number of episodes:                 410\n",
      "Average sum of rewards per episode:       -97.77817073170732\n",
      "Std of rewards per episode:               43.92683473209294\n",
      "Entropy:                                  -166941.3609721257\n",
      "KL between old and new distribution:      -0.004963233735984225\n",
      "Surrogate loss:                           314650.4112753558\n",
      "\n",
      "********** Iteration 8 ************\n",
      "Rollout\n",
      "Made rollout\n",
      "Total number of episodes:                 409\n",
      "Average sum of rewards per episode:       -94.62149144254279\n",
      "Std of rewards per episode:               48.1310871028004\n",
      "Entropy:                                  -171043.070074295\n",
      "KL between old and new distribution:      -0.022576285892622398\n",
      "Surrogate loss:                           301488.79053521296\n",
      "\n",
      "********** Iteration 9 ************\n",
      "Rollout\n",
      "Made rollout\n",
      "Total number of episodes:                 409\n",
      "Average sum of rewards per episode:       -96.42625916870415\n",
      "Std of rewards per episode:               44.209589998826864\n",
      "Entropy:                                  -172727.09977552335\n",
      "KL between old and new distribution:      0.009980805895324135\n",
      "Surrogate loss:                           313192.50339162536\n",
      "\n",
      "********** Iteration 10 ************\n",
      "Rollout\n",
      "Made rollout\n",
      "Total number of episodes:                 417\n",
      "Average sum of rewards per episode:       -85.8568824940048\n",
      "Std of rewards per episode:               51.177785825334354\n",
      "Entropy:                                  -173866.80370549223\n",
      "KL between old and new distribution:      0.009989967703685607\n",
      "Surrogate loss:                           285151.8620444462\n",
      "\n",
      "********** Iteration 11 ************\n",
      "Rollout\n",
      "Made rollout\n",
      "Total number of episodes:                 409\n",
      "Average sum of rewards per episode:       -90.93506112469437\n",
      "Std of rewards per episode:               40.564091628455586\n",
      "Entropy:                                  -180305.5963046752\n",
      "KL between old and new distribution:      -0.06420289273877898\n",
      "Surrogate loss:                           286674.68065369426\n",
      "\n",
      "********** Iteration 12 ************\n",
      "Rollout\n",
      "Made rollout\n",
      "Total number of episodes:                 408\n",
      "Average sum of rewards per episode:       -91.46862745098038\n",
      "Std of rewards per episode:               42.476174891463884\n",
      "Entropy:                                  -181521.26157064116\n",
      "KL between old and new distribution:      0.00998924975421644\n",
      "Surrogate loss:                           298112.3339705664\n",
      "\n",
      "********** Iteration 13 ************\n",
      "Rollout\n",
      "Made rollout\n",
      "Total number of episodes:                 413\n",
      "Average sum of rewards per episode:       -85.80307506053268\n",
      "Std of rewards per episode:               49.01233791387341\n",
      "Entropy:                                  -184587.4565591633\n",
      "KL between old and new distribution:      0.00998138890452754\n",
      "Surrogate loss:                           276423.4976813206\n",
      "\n",
      "********** Iteration 14 ************\n",
      "Rollout\n",
      "Made rollout\n",
      "Total number of episodes:                 408\n",
      "Average sum of rewards per episode:       -90.96458333333334\n",
      "Std of rewards per episode:               40.209280112672126\n",
      "Entropy:                                  -185741.95378749975\n",
      "KL between old and new distribution:      0.009964686404842446\n",
      "Surrogate loss:                           295627.0332601121\n",
      "\n",
      "********** Iteration 15 ************\n",
      "Rollout\n",
      "Made rollout\n",
      "Total number of episodes:                 406\n",
      "Average sum of rewards per episode:       -88.36667487684728\n",
      "Std of rewards per episode:               39.2869145417974\n",
      "Entropy:                                  -186083.45198363232\n",
      "KL between old and new distribution:      0.009958992423693106\n",
      "Surrogate loss:                           288654.9473463604\n",
      "\n",
      "********** Iteration 16 ************\n",
      "Rollout\n",
      "Made rollout\n",
      "Total number of episodes:                 414\n",
      "Average sum of rewards per episode:       -85.3911352657005\n",
      "Std of rewards per episode:               46.968576502411295\n",
      "Entropy:                                  -191204.10713875885\n",
      "KL between old and new distribution:      -0.03916543127241129\n",
      "Surrogate loss:                           270803.04318180715\n",
      "\n",
      "********** Iteration 17 ************\n",
      "Rollout\n",
      "Made rollout\n",
      "Total number of episodes:                 406\n",
      "Average sum of rewards per episode:       -87.64246305418719\n",
      "Std of rewards per episode:               37.870863045684466\n",
      "Entropy:                                  -193856.74771628898\n",
      "KL between old and new distribution:      0.009976557768417441\n",
      "Surrogate loss:                           275966.62410858506\n",
      "\n",
      "********** Iteration 18 ************\n",
      "Rollout\n",
      "Made rollout\n",
      "Total number of episodes:                 411\n",
      "Average sum of rewards per episode:       -85.74491484184914\n",
      "Std of rewards per episode:               42.98848665736062\n",
      "Entropy:                                  -196982.4893822462\n",
      "KL between old and new distribution:      0.005629870479552793\n",
      "Surrogate loss:                           276931.0466529878\n",
      "\n",
      "********** Iteration 19 ************\n",
      "Rollout\n",
      "Made rollout\n",
      "Total number of episodes:                 408\n",
      "Average sum of rewards per episode:       -84.54578431372549\n",
      "Std of rewards per episode:               43.32896600962551\n",
      "Entropy:                                  -202159.90080138666\n",
      "KL between old and new distribution:      -0.03366554251025182\n",
      "Surrogate loss:                           269272.65227884287\n",
      "\n",
      "********** Iteration 20 ************\n",
      "Rollout\n",
      "Made rollout\n",
      "Total number of episodes:                 406\n",
      "Average sum of rewards per episode:       -85.59953201970443\n",
      "Std of rewards per episode:               38.383451105216054\n",
      "Entropy:                                  -204920.35251851782\n",
      "KL between old and new distribution:      0.009962962730229915\n",
      "Surrogate loss:                           275504.5543350248\n",
      "\n",
      "********** Iteration 21 ************\n",
      "Rollout\n"
     ]
    },
    {
     "name": "stdout",
     "output_type": "stream",
     "text": [
      "Made rollout\n",
      "Total number of episodes:                 407\n",
      "Average sum of rewards per episode:       -83.65936117936118\n",
      "Std of rewards per episode:               45.15507771365865\n",
      "Entropy:                                  -204910.9688093565\n",
      "KL between old and new distribution:      0.009984595952664302\n",
      "Surrogate loss:                           274037.57345588354\n",
      "\n",
      "********** Iteration 22 ************\n",
      "Rollout\n",
      "Made rollout\n",
      "Total number of episodes:                 407\n",
      "Average sum of rewards per episode:       -81.43257985257985\n",
      "Std of rewards per episode:               43.9287358110121\n",
      "Entropy:                                  -205097.51352103386\n",
      "KL between old and new distribution:      0.009992994644571184\n",
      "Surrogate loss:                           268128.6721930672\n",
      "\n",
      "********** Iteration 23 ************\n",
      "Rollout\n",
      "Made rollout\n",
      "Total number of episodes:                 413\n",
      "Average sum of rewards per episode:       -78.81196125907991\n",
      "Std of rewards per episode:               45.42196508446208\n",
      "Entropy:                                  -209055.1844421132\n",
      "KL between old and new distribution:      -0.02338682807741396\n",
      "Surrogate loss:                           252698.02975394164\n",
      "\n",
      "********** Iteration 24 ************\n",
      "Rollout\n",
      "Made rollout\n",
      "Total number of episodes:                 412\n",
      "Average sum of rewards per episode:       -84.96021844660194\n",
      "Std of rewards per episode:               42.289131429815434\n",
      "Entropy:                                  -210036.23515167105\n",
      "KL between old and new distribution:      0.009959872192033509\n",
      "Surrogate loss:                           282286.9649359516\n",
      "\n",
      "********** Iteration 25 ************\n",
      "Rollout\n",
      "Made rollout\n",
      "Total number of episodes:                 412\n",
      "Average sum of rewards per episode:       -81.70953883495146\n",
      "Std of rewards per episode:               43.33402004469385\n",
      "Entropy:                                  -210486.40069454725\n",
      "KL between old and new distribution:      0.009960580900997813\n",
      "Surrogate loss:                           271270.2476868759\n",
      "\n",
      "********** Iteration 26 ************\n",
      "Rollout\n",
      "Made rollout\n"
     ]
    }
   ],
   "source": [
    "rewards, i = agent.learn(reward=90, max_pathlength=50, n_timesteps=20000)"
   ]
  },
  {
   "cell_type": "code",
   "execution_count": 6,
   "metadata": {
    "collapsed": true
   },
   "outputs": [],
   "source": [
    "agent.net.Savemodel()"
   ]
  },
  {
   "cell_type": "code",
   "execution_count": 12,
   "metadata": {},
   "outputs": [
    {
     "data": {
      "text/plain": [
       "0.7596185714677051"
      ]
     },
     "execution_count": 12,
     "metadata": {},
     "output_type": "execute_result"
    }
   ],
   "source": [
    "import numpy as np\n",
    "np.random.uniform(-1,1)"
   ]
  },
  {
   "cell_type": "code",
   "execution_count": 12,
   "metadata": {
    "collapsed": true
   },
   "outputs": [],
   "source": [
    "agent1 = TRPOAgent(env)"
   ]
  },
  {
   "cell_type": "code",
   "execution_count": 17,
   "metadata": {},
   "outputs": [
    {
     "name": "stdout",
     "output_type": "stream",
     "text": [
      "1 ) 0.03999999999999998 [-0.366867693950386, -0.04405771395949472, -0.46786826214869714] [ 0.43602875 -0.36686769 -0.04405771 -0.46786826]\n",
      "2 ) 0.04999999999999999 [3.461784203713449, 5.7517222874989695, 0.6768867232406399] [ 1.8432967  -2.45453341 -0.48740531  1.14475499]\n",
      "3 ) -5 [2.88842141081556, 5.008574704136947, 0.6070430514096127] [ 2.06449405 -0.57336279 -0.74314758 -0.06984367]\n",
      "4 ) -5 [2.1589972147293937, 4.046392935693688, 0.5723463631193322] [ 2.1870546  -0.7294242  -0.96218177 -0.03469669]\n",
      "5 ) -0.05999999999999994 [1.3674116543440358, 3.886310826937675, 0.09373785644858967] [ 1.71512591 -0.79158556 -0.16008211 -0.47860851]\n",
      "6 ) -0.09999999999999998 [-5.750945740264553, -3.040236167218573, -0.3266808223680262] [ 1.72855265 -0.83517209 -0.64336169 -0.42041868]\n",
      "7 ) 0.010000000000000009 [0.4474317408404014, 2.4581196985575553, 0.3481018561771779] [ 1.50626064 -0.08480783 -0.78482944  0.67478268]\n",
      "8 ) 0.020000000000000018 [-0.15696862788793953, -4.553876358296208, -0.23445055295980488] [ 1.62564396 -0.60440037 -0.72881075 -0.58255241]\n",
      "9 ) -0.12000000000000005 [3.7442656689186684, 1.3789558583150159, 0.7349736484973135] [ 2.12969673 -2.38195101 -0.35035309  0.9694242 ]\n",
      "10 ) 0.04999999999999999 [-3.1364734866598667, -4.868496936884053, -0.07766749182855892] [ 1.00510485 -0.59755385  0.03573251 -0.81264114]\n",
      "11 ) 0.010000000000000009 [-4.513649079409058, -4.439615607298785, -0.26117357619936354] [ 1.97208607 -1.37717559  0.42888133 -0.18350608]\n",
      "12 ) -5 [-4.253055701629867, -4.443409460169845, -0.31028140194412274] [ 0.55671631  0.26059338 -0.00379385 -0.04910783]\n",
      "13 ) 100.01 [-4.253055701629867, -4.443409460169845, -0.31028140194412274] [ 0.0571013  -0.01042857  0.26073341 -0.12180078]\n"
     ]
    }
   ],
   "source": [
    "agent1.play(env)"
   ]
  },
  {
   "cell_type": "code",
   "execution_count": 18,
   "metadata": {
    "scrolled": true
   },
   "outputs": [
    {
     "name": "stdout",
     "output_type": "stream",
     "text": [
      "1 ) 0.03 [-6.234558022464642, -0.00642987453342435, -0.33936807322223256] [ 0.02964064  0.04862728 -0.00642987 -0.33936807]\n",
      "2 ) -0.07999999999999996 [5.5495661653399395, 5.400513119828763, 0.31234695592236156] [ 0.48461452 -0.78224643 -0.87624231  0.65171503]\n",
      "3 ) 0.02999999999999997 [5.181537408449017, 3.7253924875110376, 0.8933359749020333] [ 0.75861507 -0.36802876 -1.67512063  0.58098902]\n",
      "4 ) -5 [5.0335728653855565, 2.38018913386935, 0.8589275332297958] [ 0.81829896 -0.14796454 -1.34520335 -0.03440844]\n",
      "5 ) 0.010000000000000009 [4.948966313340918, 1.564883093246379, 0.9121282048708681] [ 0.73877648 -0.08460655 -0.81530604  0.05320067]\n",
      "6 ) 100.08 [4.7020196734863084, 1.564883093246379, 0.9121282048708681] [ 0.37737205 -0.24694664 -0.41820182  0.11833858]\n"
     ]
    }
   ],
   "source": [
    "obs = env.reset()\n",
    "done = False\n",
    "reward = 0\n",
    "l = 0\n",
    "while done is not True:\n",
    "    a = agent.act(obs, sample=False)[0]\n",
    "    for i in range(agent.n_actions):\n",
    "        obs, r, done = env.step([i, a[i]])\n",
    "        if done:\n",
    "            break\n",
    "    reward += r\n",
    "    l += 1\n",
    "    print(l, ')', r, [obs[-3], obs[-2], obs[-1]], a)"
   ]
  },
  {
   "cell_type": "code",
   "execution_count": 12,
   "metadata": {
    "scrolled": true
   },
   "outputs": [
    {
     "data": {
      "text/plain": [
       "(0.04238851898894165,\n",
       " 0.02,\n",
       " 0.0,\n",
       " 0.03,\n",
       " 0.02,\n",
       " 0.03,\n",
       " 0.02,\n",
       " 0.03,\n",
       " 3.170990653145611,\n",
       " 4.303083131928312,\n",
       " 0.8115401118244083,\n",
       " 1.0936635854732482)"
      ]
     },
     "execution_count": 12,
     "metadata": {},
     "output_type": "execute_result"
    }
   ],
   "source": [
    "env.render()"
   ]
  },
  {
   "cell_type": "code",
   "execution_count": 5,
   "metadata": {},
   "outputs": [
    {
     "data": {
      "image/png": "[encoded data removed]",
      "text/plain": [
       "<matplotlib.figure.Figure at 0x7fe385e960b8>"
      ]
     },
     "metadata": {},
     "output_type": "display_data"
    }
   ],
   "source": [
    "plt.plot(range(i-1), rewards)\n",
    "plt.show()"
   ]
  },
  {
   "cell_type": "code",
   "execution_count": 6,
   "metadata": {},
   "outputs": [],
   "source": [
    "env1 = gym.make(\"crumb-pick-v0\")\n",
    "#agent.grasp(env1)\n",
    "#agent.pick(env1)\n",
    "#agent.putdown(env1)"
   ]
  },
  {
   "cell_type": "code",
   "execution_count": 7,
   "metadata": {},
   "outputs": [
    {
     "name": "stdout",
     "output_type": "stream",
     "text": [
      "1 ) 0.06 [-0.41000000000000003, 0.07, -0.6] [ 0.3553416  -0.43916801  0.10296032 -0.56254098]\n",
      "2 ) 0.06 [-0.9500000000000001, 0.03, -1.21] [ 0.38913229 -0.54319786 -0.03464239 -0.60152824]\n",
      "3 ) 0.02999999999999997 [-1.58, -0.15, -1.58] [ 0.55187381 -0.7261419  -0.18127548 -0.80366709]\n",
      "4 ) -1 [-1.58, -0.41000000000000003, -1.58] [ 0.62185835 -0.80477941 -0.25970246 -1.028581  ]\n",
      "5 ) -1 [-1.58, -0.58, -1.58] [ 0.56747276 -0.68857753 -0.16299341 -1.07159587]\n",
      "6 ) -1 [-1.58, -0.6900000000000001, -1.58] [ 0.55240927 -0.65742166 -0.10357684 -1.07707355]\n",
      "7 ) -1 [-1.58, -0.76, -1.58] [ 0.54633613 -0.6371769  -0.06182135 -1.08847315]\n",
      "8 ) -1 [-1.58, -0.8, -1.58] [ 0.5432093  -0.62031922 -0.03789456 -1.0911103 ]\n",
      "9 ) -1 [-1.58, -0.8300000000000001, -1.58] [ 0.53663832 -0.61765055 -0.02455322 -1.09200862]\n",
      "10 ) -1 [-1.58, -0.85, -1.58] [ 0.531392   -0.61625809 -0.01414322 -1.09242365]\n"
     ]
    },
    {
     "ename": "KeyboardInterrupt",
     "evalue": "",
     "output_type": "error",
     "traceback": [
      "\u001b[0;31m---------------------------------------------------------------------------\u001b[0m",
      "\u001b[0;31mKeyboardInterrupt\u001b[0m                         Traceback (most recent call last)",
      "\u001b[0;32m<ipython-input-7-b358e1c95a18>\u001b[0m in \u001b[0;36m<module>\u001b[0;34m()\u001b[0m\n\u001b[0;32m----> 1\u001b[0;31m \u001b[0magent\u001b[0m\u001b[0;34m.\u001b[0m\u001b[0mgrasp\u001b[0m\u001b[0;34m(\u001b[0m\u001b[0menv1\u001b[0m\u001b[0;34m)\u001b[0m\u001b[0;34m\u001b[0m\u001b[0m\n\u001b[0m",
      "\u001b[0;32m~/ISA/ros-rl/TRPOagent/agent/agent_TRPO.py\u001b[0m in \u001b[0;36mgrasp\u001b[0;34m(self, env)\u001b[0m\n\u001b[1;32m    115\u001b[0m             \u001b[0ma\u001b[0m \u001b[0;34m=\u001b[0m \u001b[0mself\u001b[0m\u001b[0;34m.\u001b[0m\u001b[0mact\u001b[0m\u001b[0;34m(\u001b[0m\u001b[0mobs\u001b[0m\u001b[0;34m,\u001b[0m \u001b[0msample\u001b[0m\u001b[0;34m=\u001b[0m\u001b[0;32mFalse\u001b[0m\u001b[0;34m)\u001b[0m\u001b[0;34m[\u001b[0m\u001b[0;36m0\u001b[0m\u001b[0;34m]\u001b[0m\u001b[0;34m\u001b[0m\u001b[0m\n\u001b[1;32m    116\u001b[0m             \u001b[0;32mfor\u001b[0m \u001b[0mi\u001b[0m \u001b[0;32min\u001b[0m \u001b[0mrange\u001b[0m\u001b[0;34m(\u001b[0m\u001b[0mself\u001b[0m\u001b[0;34m.\u001b[0m\u001b[0mn_actions\u001b[0m\u001b[0;34m)\u001b[0m\u001b[0;34m:\u001b[0m\u001b[0;34m\u001b[0m\u001b[0m\n\u001b[0;32m--> 117\u001b[0;31m                 \u001b[0mobs\u001b[0m\u001b[0;34m,\u001b[0m \u001b[0mr\u001b[0m\u001b[0;34m,\u001b[0m \u001b[0mdone\u001b[0m \u001b[0;34m=\u001b[0m \u001b[0menv\u001b[0m\u001b[0;34m.\u001b[0m\u001b[0mstep\u001b[0m\u001b[0;34m(\u001b[0m\u001b[0;34m[\u001b[0m\u001b[0mi\u001b[0m\u001b[0;34m,\u001b[0m \u001b[0ma\u001b[0m\u001b[0;34m[\u001b[0m\u001b[0mi\u001b[0m\u001b[0;34m]\u001b[0m\u001b[0;34m]\u001b[0m\u001b[0;34m)\u001b[0m\u001b[0;34m\u001b[0m\u001b[0m\n\u001b[0m\u001b[1;32m    118\u001b[0m                 \u001b[0mobs\u001b[0m \u001b[0;34m=\u001b[0m \u001b[0msynthetic_state\u001b[0m\u001b[0;34m(\u001b[0m\u001b[0menv\u001b[0m\u001b[0;34m,\u001b[0m \u001b[0mobs\u001b[0m\u001b[0;34m,\u001b[0m \u001b[0menv\u001b[0m\u001b[0;34m.\u001b[0m\u001b[0maim\u001b[0m\u001b[0;34m)\u001b[0m\u001b[0;34m\u001b[0m\u001b[0m\n\u001b[1;32m    119\u001b[0m                 \u001b[0;32mif\u001b[0m \u001b[0mdone\u001b[0m\u001b[0;34m:\u001b[0m\u001b[0;34m\u001b[0m\u001b[0m\n",
      "\u001b[0;32m~/anaconda3/lib/python3.6/site-packages/gym/core.py\u001b[0m in \u001b[0;36mstep\u001b[0;34m(self, action)\u001b[0m\n\u001b[1;32m     94\u001b[0m             \u001b[0minfo\u001b[0m \u001b[0;34m(\u001b[0m\u001b[0mdict\u001b[0m\u001b[0;34m)\u001b[0m\u001b[0;34m:\u001b[0m \u001b[0mcontains\u001b[0m \u001b[0mauxiliary\u001b[0m \u001b[0mdiagnostic\u001b[0m \u001b[0minformation\u001b[0m \u001b[0;34m(\u001b[0m\u001b[0mhelpful\u001b[0m \u001b[0;32mfor\u001b[0m \u001b[0mdebugging\u001b[0m\u001b[0;34m,\u001b[0m \u001b[0;32mand\u001b[0m \u001b[0msometimes\u001b[0m \u001b[0mlearning\u001b[0m\u001b[0;34m)\u001b[0m\u001b[0;34m\u001b[0m\u001b[0m\n\u001b[1;32m     95\u001b[0m         \"\"\"\n\u001b[0;32m---> 96\u001b[0;31m         \u001b[0;32mreturn\u001b[0m \u001b[0mself\u001b[0m\u001b[0;34m.\u001b[0m\u001b[0m_step\u001b[0m\u001b[0;34m(\u001b[0m\u001b[0maction\u001b[0m\u001b[0;34m)\u001b[0m\u001b[0;34m\u001b[0m\u001b[0m\n\u001b[0m\u001b[1;32m     97\u001b[0m \u001b[0;34m\u001b[0m\u001b[0m\n\u001b[1;32m     98\u001b[0m     \u001b[0;32mdef\u001b[0m \u001b[0mreset\u001b[0m\u001b[0;34m(\u001b[0m\u001b[0mself\u001b[0m\u001b[0;34m)\u001b[0m\u001b[0;34m:\u001b[0m\u001b[0;34m\u001b[0m\u001b[0m\n",
      "\u001b[0;32m~/gym-crumb/Gym-crumb/gym_crumb/envs/crumb_pick_env.py\u001b[0m in \u001b[0;36m_step\u001b[0;34m(self, action)\u001b[0m\n\u001b[1;32m     48\u001b[0m                 \u001b[0m_\u001b[0m\u001b[0;34m,\u001b[0m \u001b[0mstate\u001b[0m \u001b[0;34m=\u001b[0m \u001b[0mself\u001b[0m\u001b[0;34m.\u001b[0m\u001b[0mget_state\u001b[0m\u001b[0;34m(\u001b[0m\u001b[0;34m)\u001b[0m\u001b[0;34m\u001b[0m\u001b[0m\n\u001b[1;32m     49\u001b[0m                 \u001b[0mself\u001b[0m\u001b[0;34m.\u001b[0m\u001b[0marm\u001b[0m\u001b[0;34m[\u001b[0m\u001b[0maction\u001b[0m\u001b[0;34m[\u001b[0m\u001b[0;36m0\u001b[0m\u001b[0;34m]\u001b[0m\u001b[0;34m]\u001b[0m\u001b[0;34m.\u001b[0m\u001b[0mpublish\u001b[0m\u001b[0;34m(\u001b[0m\u001b[0mstate\u001b[0m\u001b[0;34m[\u001b[0m\u001b[0maction\u001b[0m\u001b[0;34m[\u001b[0m\u001b[0;36m0\u001b[0m\u001b[0;34m]\u001b[0m\u001b[0;34m]\u001b[0m\u001b[0;34m+\u001b[0m\u001b[0maction\u001b[0m\u001b[0;34m[\u001b[0m\u001b[0;36m1\u001b[0m\u001b[0;34m]\u001b[0m\u001b[0;34m)\u001b[0m\u001b[0;34m\u001b[0m\u001b[0m\n\u001b[0;32m---> 50\u001b[0;31m                 \u001b[0mrospy\u001b[0m\u001b[0;34m.\u001b[0m\u001b[0msleep\u001b[0m\u001b[0;34m(\u001b[0m\u001b[0;36m1.5\u001b[0m\u001b[0;34m)\u001b[0m\u001b[0;34m\u001b[0m\u001b[0m\n\u001b[0m\u001b[1;32m     51\u001b[0m                 \u001b[0mgripper\u001b[0m \u001b[0;34m=\u001b[0m \u001b[0mself\u001b[0m\u001b[0;34m.\u001b[0m\u001b[0mlink_state\u001b[0m\u001b[0;34m(\u001b[0m\u001b[0;34m'gripper_1_link'\u001b[0m\u001b[0;34m,\u001b[0m \u001b[0;34m''\u001b[0m\u001b[0;34m)\u001b[0m\u001b[0;34m.\u001b[0m\u001b[0mlink_state\u001b[0m\u001b[0;34m.\u001b[0m\u001b[0mpose\u001b[0m\u001b[0;34m.\u001b[0m\u001b[0mposition\u001b[0m\u001b[0;34m\u001b[0m\u001b[0m\n\u001b[1;32m     52\u001b[0m                 \u001b[0mr2\u001b[0m \u001b[0;34m=\u001b[0m \u001b[0mmetric\u001b[0m\u001b[0;34m(\u001b[0m\u001b[0mgripper\u001b[0m\u001b[0;34m,\u001b[0m \u001b[0mself\u001b[0m\u001b[0;34m.\u001b[0m\u001b[0maim\u001b[0m\u001b[0;34m)\u001b[0m\u001b[0;34m//\u001b[0m\u001b[0;36m0.01\u001b[0m\u001b[0;34m*\u001b[0m\u001b[0;36m0.01\u001b[0m\u001b[0;34m\u001b[0m\u001b[0m\n",
      "\u001b[0;32m/opt/ros/kinetic/lib/python2.7/dist-packages/rospy/timer.py\u001b[0m in \u001b[0;36msleep\u001b[0;34m(duration)\u001b[0m\n\u001b[1;32m    157\u001b[0m                   \u001b[0;32mnot\u001b[0m \u001b[0mrospy\u001b[0m\u001b[0;34m.\u001b[0m\u001b[0mcore\u001b[0m\u001b[0;34m.\u001b[0m\u001b[0mis_shutdown\u001b[0m\u001b[0;34m(\u001b[0m\u001b[0;34m)\u001b[0m\u001b[0;34m:\u001b[0m\u001b[0;34m\u001b[0m\u001b[0m\n\u001b[1;32m    158\u001b[0m             \u001b[0;32mwith\u001b[0m \u001b[0mrostime_cond\u001b[0m\u001b[0;34m:\u001b[0m\u001b[0;34m\u001b[0m\u001b[0m\n\u001b[0;32m--> 159\u001b[0;31m                 \u001b[0mrostime_cond\u001b[0m\u001b[0;34m.\u001b[0m\u001b[0mwait\u001b[0m\u001b[0;34m(\u001b[0m\u001b[0;36m0.5\u001b[0m\u001b[0;34m)\u001b[0m\u001b[0;34m\u001b[0m\u001b[0m\n\u001b[0m\u001b[1;32m    160\u001b[0m \u001b[0;34m\u001b[0m\u001b[0m\n\u001b[1;32m    161\u001b[0m         \u001b[0;32mif\u001b[0m \u001b[0mrospy\u001b[0m\u001b[0;34m.\u001b[0m\u001b[0mrostime\u001b[0m\u001b[0;34m.\u001b[0m\u001b[0mget_rostime\u001b[0m\u001b[0;34m(\u001b[0m\u001b[0;34m)\u001b[0m \u001b[0;34m<\u001b[0m \u001b[0minitial_rostime\u001b[0m\u001b[0;34m:\u001b[0m\u001b[0;34m\u001b[0m\u001b[0m\n",
      "\u001b[0;32m~/anaconda3/lib/python3.6/threading.py\u001b[0m in \u001b[0;36mwait\u001b[0;34m(self, timeout)\u001b[0m\n\u001b[1;32m    297\u001b[0m             \u001b[0;32melse\u001b[0m\u001b[0;34m:\u001b[0m\u001b[0;34m\u001b[0m\u001b[0m\n\u001b[1;32m    298\u001b[0m                 \u001b[0;32mif\u001b[0m \u001b[0mtimeout\u001b[0m \u001b[0;34m>\u001b[0m \u001b[0;36m0\u001b[0m\u001b[0;34m:\u001b[0m\u001b[0;34m\u001b[0m\u001b[0m\n\u001b[0;32m--> 299\u001b[0;31m                     \u001b[0mgotit\u001b[0m \u001b[0;34m=\u001b[0m \u001b[0mwaiter\u001b[0m\u001b[0;34m.\u001b[0m\u001b[0macquire\u001b[0m\u001b[0;34m(\u001b[0m\u001b[0;32mTrue\u001b[0m\u001b[0;34m,\u001b[0m \u001b[0mtimeout\u001b[0m\u001b[0;34m)\u001b[0m\u001b[0;34m\u001b[0m\u001b[0m\n\u001b[0m\u001b[1;32m    300\u001b[0m                 \u001b[0;32melse\u001b[0m\u001b[0;34m:\u001b[0m\u001b[0;34m\u001b[0m\u001b[0m\n\u001b[1;32m    301\u001b[0m                     \u001b[0mgotit\u001b[0m \u001b[0;34m=\u001b[0m \u001b[0mwaiter\u001b[0m\u001b[0;34m.\u001b[0m\u001b[0macquire\u001b[0m\u001b[0;34m(\u001b[0m\u001b[0;32mFalse\u001b[0m\u001b[0;34m)\u001b[0m\u001b[0;34m\u001b[0m\u001b[0m\n",
      "\u001b[0;31mKeyboardInterrupt\u001b[0m: "
     ]
    }
   ],
   "source": [
    "agent.grasp(env1)"
   ]
  },
  {
   "cell_type": "code",
   "execution_count": 8,
   "metadata": {},
   "outputs": [
    {
     "data": {
      "text/plain": [
       "[1.5708157969563032,\n",
       " -1.5709660722421521,\n",
       " -0.8448171861857681,\n",
       " -1.5708035535485738,\n",
       " 0.00016468110347922504]"
      ]
     },
     "execution_count": 8,
     "metadata": {},
     "output_type": "execute_result"
    }
   ],
   "source": [
    "env1.render()"
   ]
  },
  {
   "cell_type": "code",
   "execution_count": 10,
   "metadata": {},
   "outputs": [
    {
     "data": {
      "text/plain": [
       "191.5"
      ]
     },
     "execution_count": 10,
     "metadata": {},
     "output_type": "execute_result"
    }
   ],
   "source": [
    "np.mean([i,i1,i2,i3])"
   ]
  },
  {
   "cell_type": "code",
   "execution_count": 12,
   "metadata": {},
   "outputs": [
    {
     "data": {
      "text/plain": [
       "110.25"
      ]
     },
     "execution_count": 12,
     "metadata": {},
     "output_type": "execute_result"
    }
   ],
   "source": [
    "np.mean([i,i1,i2,i3])"
   ]
  },
  {
   "cell_type": "code",
   "execution_count": null,
   "metadata": {
    "collapsed": true
   },
   "outputs": [],
   "source": []
  }
 ],
 "metadata": {
  "kernelspec": {
   "display_name": "Python 3",
   "language": "python",
   "name": "python3"
  },
  "language_info": {
   "codemirror_mode": {
    "name": "ipython",
    "version": 3
   },
   "file_extension": ".py",
   "mimetype": "text/x-python",
   "name": "python",
   "nbconvert_exporter": "python",
   "pygments_lexer": "ipython3",
   "version": "3.6.3"
  }
 },
 "nbformat": 4,
 "nbformat_minor": 1
}
